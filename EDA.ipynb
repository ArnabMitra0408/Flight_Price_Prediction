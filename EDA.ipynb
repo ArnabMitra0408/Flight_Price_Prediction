{
 "cells": [
  {
   "cell_type": "code",
   "execution_count": 14,
   "metadata": {},
   "outputs": [],
   "source": [
    "#Libraries\n",
    "import numpy as np\n",
    "import pandas as pd\n",
    "import matplotlib.pyplot as plt\n",
    "import seaborn as sns"
   ]
  },
  {
   "cell_type": "code",
   "execution_count": 15,
   "metadata": {},
   "outputs": [],
   "source": [
    "# Importing Dataset\n",
    "data=pd.read_csv('Data/Flight_Data.csv',nrows=1000)\n"
   ]
  },
  {
   "cell_type": "code",
   "execution_count": 21,
   "metadata": {},
   "outputs": [
    {
     "data": {
      "text/plain": [
       "(1000, 27)"
      ]
     },
     "execution_count": 21,
     "metadata": {},
     "output_type": "execute_result"
    }
   ],
   "source": [
    "data.shape"
   ]
  },
  {
   "cell_type": "code",
   "execution_count": 19,
   "metadata": {},
   "outputs": [
    {
     "data": {
      "text/plain": [
       "Index(['legId', 'searchDate', 'flightDate', 'startingAirport',\n",
       "       'destinationAirport', 'fareBasisCode', 'travelDuration', 'elapsedDays',\n",
       "       'isBasicEconomy', 'isRefundable', 'isNonStop', 'baseFare', 'totalFare',\n",
       "       'seatsRemaining', 'totalTravelDistance',\n",
       "       'segmentsDepartureTimeEpochSeconds', 'segmentsDepartureTimeRaw',\n",
       "       'segmentsArrivalTimeEpochSeconds', 'segmentsArrivalTimeRaw',\n",
       "       'segmentsArrivalAirportCode', 'segmentsDepartureAirportCode',\n",
       "       'segmentsAirlineName', 'segmentsAirlineCode',\n",
       "       'segmentsEquipmentDescription', 'segmentsDurationInSeconds',\n",
       "       'segmentsDistance', 'segmentsCabinCode'],\n",
       "      dtype='object')"
      ]
     },
     "execution_count": 19,
     "metadata": {},
     "output_type": "execute_result"
    }
   ],
   "source": [
    "data.columns"
   ]
  },
  {
   "cell_type": "code",
   "execution_count": 26,
   "metadata": {},
   "outputs": [
    {
     "data": {
      "text/plain": [
       "legId                                                 df29acaa40fca38c7a9905e6249df687\n",
       "searchDate                                                                  2022-06-13\n",
       "flightDate                                                                  2022-06-15\n",
       "startingAirport                                                                    ATL\n",
       "destinationAirport                                                                 EWR\n",
       "fareBasisCode                                                                      YNR\n",
       "travelDuration                                                                 PT8H53M\n",
       "elapsedDays                                                                          0\n",
       "isBasicEconomy                                                                   False\n",
       "isRefundable                                                                     False\n",
       "isNonStop                                                                        False\n",
       "baseFare                                                                         274.0\n",
       "totalFare                                                                       381.58\n",
       "seatsRemaining                                                                       0\n",
       "totalTravelDistance                                                                NaN\n",
       "segmentsDepartureTimeEpochSeconds                               1655319900||1655340600\n",
       "segmentsDepartureTimeRaw             2022-06-15T15:05:00.000-04:00||2022-06-15T20:5...\n",
       "segmentsArrivalTimeEpochSeconds                                 1655327040||1655351880\n",
       "segmentsArrivalTimeRaw               2022-06-15T17:04:00.000-04:00||2022-06-15T23:5...\n",
       "segmentsArrivalAirportCode                                                    FLL||EWR\n",
       "segmentsDepartureAirportCode                                                  ATL||FLL\n",
       "segmentsAirlineName                                   Spirit Airlines||Spirit Airlines\n",
       "segmentsAirlineCode                                                             NK||NK\n",
       "segmentsEquipmentDescription                         AIRBUS INDUSTRIE A320 SHARKLETS||\n",
       "segmentsDurationInSeconds                                                  7140||11280\n",
       "segmentsDistance                                                            None||None\n",
       "segmentsCabinCode                                                         coach||coach\n",
       "Name: 456, dtype: object"
      ]
     },
     "execution_count": 26,
     "metadata": {},
     "output_type": "execute_result"
    }
   ],
   "source": [
    "data.iloc[456]"
   ]
  },
  {
   "cell_type": "code",
   "execution_count": 18,
   "metadata": {},
   "outputs": [
    {
     "data": {
      "text/html": [
       "<div>\n",
       "<style scoped>\n",
       "    .dataframe tbody tr th:only-of-type {\n",
       "        vertical-align: middle;\n",
       "    }\n",
       "\n",
       "    .dataframe tbody tr th {\n",
       "        vertical-align: top;\n",
       "    }\n",
       "\n",
       "    .dataframe thead th {\n",
       "        text-align: right;\n",
       "    }\n",
       "</style>\n",
       "<table border=\"1\" class=\"dataframe\">\n",
       "  <thead>\n",
       "    <tr style=\"text-align: right;\">\n",
       "      <th></th>\n",
       "      <th>flightDate</th>\n",
       "      <th>startingAirport</th>\n",
       "      <th>fareBasisCode</th>\n",
       "    </tr>\n",
       "  </thead>\n",
       "  <tbody>\n",
       "    <tr>\n",
       "      <th>998</th>\n",
       "      <td>2022-06-03</td>\n",
       "      <td>JFK</td>\n",
       "      <td>M7AHZNN3</td>\n",
       "    </tr>\n",
       "    <tr>\n",
       "      <th>999</th>\n",
       "      <td>2022-06-12</td>\n",
       "      <td>BOS</td>\n",
       "      <td>SAA0OHEN</td>\n",
       "    </tr>\n",
       "  </tbody>\n",
       "</table>\n",
       "</div>"
      ],
      "text/plain": [
       "     flightDate startingAirport fareBasisCode\n",
       "998  2022-06-03             JFK      M7AHZNN3\n",
       "999  2022-06-12             BOS      SAA0OHEN"
      ]
     },
     "execution_count": 18,
     "metadata": {},
     "output_type": "execute_result"
    }
   ],
   "source": [
    "data[['flightDate','startingAirport','fareBasisCode']].tail(n=2)"
   ]
  }
 ],
 "metadata": {
  "kernelspec": {
   "display_name": "data_science",
   "language": "python",
   "name": "python3"
  },
  "language_info": {
   "codemirror_mode": {
    "name": "ipython",
    "version": 3
   },
   "file_extension": ".py",
   "mimetype": "text/x-python",
   "name": "python",
   "nbconvert_exporter": "python",
   "pygments_lexer": "ipython3",
   "version": "3.12.1"
  }
 },
 "nbformat": 4,
 "nbformat_minor": 2
}
