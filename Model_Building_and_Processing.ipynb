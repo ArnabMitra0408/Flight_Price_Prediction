{
 "cells": [
  {
   "cell_type": "code",
   "execution_count": 74,
   "metadata": {},
   "outputs": [
    {
     "data": {
      "text/plain": [
       "'#train test split\\nX_train, X_test, y_train, y_test = train_test_split(X, Y, test_size=0.3, random_state=42)\\n\\n\\nX_train=X_train.reset_index(drop=True)\\nX_test=X_test.reset_index(drop=True)\\ny_train=y_train.reset_index(drop=True)\\ny_test=y_test.reset_index(drop=True)\\n#Scaling\\nstandard=StandardScaler()\\n\\nstandard=standard.fit(X_train)\\nX_train=standard.transform(X_train)\\nX_test=standard.transform(X_test)\\n'"
      ]
     },
     "execution_count": 74,
     "metadata": {},
     "output_type": "execute_result"
    }
   ],
   "source": [
    "import numpy as np\n",
    "import pandas as pd\n",
    "import matplotlib.pyplot as plt\n",
    "import seaborn as sns\n",
    "from sklearn.model_selection import train_test_split,KFold,GridSearchCV\n",
    "from sklearn.preprocessing import MinMaxScaler,RobustScaler,StandardScaler\n",
    "from sklearn.linear_model import LinearRegression\n",
    "from sklearn.tree import DecisionTreeRegressor\n",
    "from sklearn.ensemble import RandomForestRegressor\n",
    "from sklearn.metrics import mean_squared_error,r2_score\n",
    "import time\n",
    "\n",
    "data=pd.read_csv(\"Data/Flight_Data_Processed.csv\")\n",
    "X=data.drop(columns=['totalFare'],axis=1)\n",
    "Y=data['totalFare']\n",
    "del data\n",
    "\n",
    "#scaling\n",
    "\n",
    "'''standard=StandardScaler()\n",
    "\n",
    "standard=standard.fit(X)\n",
    "X=standard.transform(X)\n",
    "'''\n",
    "'''#train test split\n",
    "X_train, X_test, y_train, y_test = train_test_split(X, Y, test_size=0.3, random_state=42)\n",
    "\n",
    "\n",
    "X_train=X_train.reset_index(drop=True)\n",
    "X_test=X_test.reset_index(drop=True)\n",
    "y_train=y_train.reset_index(drop=True)\n",
    "y_test=y_test.reset_index(drop=True)\n",
    "#Scaling\n",
    "standard=StandardScaler()\n",
    "\n",
    "standard=standard.fit(X_train)\n",
    "X_train=standard.transform(X_train)\n",
    "X_test=standard.transform(X_test)\n",
    "'''"
   ]
  },
  {
   "cell_type": "code",
   "execution_count": 64,
   "metadata": {},
   "outputs": [
    {
     "name": "stdout",
     "output_type": "stream",
     "text": [
      "[21887.60049952567, 21897.38157323084, 21791.798839875326, 22017.205386514273, 21672.711169419606]\n",
      "Average MSE: 21853.339493713145\n",
      "[0.5091286058474906, 0.5072995579477078, 0.5083645267278152, 0.5099122115473032, 0.5077131593987708]\n",
      "Average MSE: 0.5084836122938176\n",
      "time taken 4.054746389389038\n"
     ]
    }
   ],
   "source": [
    "start_time=time.time()\n",
    "\n",
    "k = 5\n",
    "kf = KFold(n_splits=k, shuffle=True, random_state=42)\n",
    "\n",
    "# Initialize lists to store MSE for each fold\n",
    "mse_scores = []\n",
    "r2_scores=[]\n",
    "\n",
    "# Perform k-fold cross-validation\n",
    "for train_index, test_index in kf.split(X):\n",
    "    X_train, X_test = X[train_index], X[test_index]\n",
    "    y_train, y_test = Y[train_index], Y[test_index]\n",
    "\n",
    "    \n",
    "    # Train the model\n",
    "    model = LinearRegression()\n",
    "    model.fit(X_train, y_train)\n",
    "    \n",
    "    # Predict on the test set\n",
    "    y_pred = model.predict(X_test)\n",
    "    \n",
    "    # Calculate MSE and store it\n",
    "    mse = mean_squared_error(y_test, y_pred)\n",
    "    mse_scores.append(mse)\n",
    "\n",
    "    # Calculate r2 score and store it\n",
    "    r2 = r2_score(y_test, y_pred)\n",
    "    r2_scores.append(r2)\n",
    "\n",
    "# Calculate average MSE across all folds\n",
    "avg_mse = np.mean(mse_scores)\n",
    "print(mse_scores)\n",
    "print(\"Average MSE:\", avg_mse)\n",
    "\n",
    "# Calculate average r2 across all folds\n",
    "avg_r2 = np.mean(r2_scores)\n",
    "print(r2_scores)\n",
    "print(\"Average MSE:\", avg_r2)\n",
    "end_time=time.time()\n",
    "\n",
    "print(f\"time taken {end_time-start_time}\")"
   ]
  },
  {
   "cell_type": "code",
   "execution_count": 65,
   "metadata": {},
   "outputs": [
    {
     "name": "stdout",
     "output_type": "stream",
     "text": [
      "[17562.532523475704, 17611.141274142694, 17444.51336861179, 17802.922208774915, 17582.053905015]\n",
      "Average MSE: 17600.632656004018\n",
      "[0.6061265452631899, 0.6037417961687723, 0.6064417789004573, 0.6037192450119926, 0.6006307793926029]\n",
      "Average MSE: 0.6041320289474029\n",
      "time taken 138.4546570777893\n"
     ]
    }
   ],
   "source": [
    "start_time=time.time()\n",
    "\n",
    "k = 5\n",
    "kf = KFold(n_splits=k, shuffle=True, random_state=42)\n",
    "\n",
    "# Initialize lists to store MSE for each fold\n",
    "mse_scores = []\n",
    "r2_scores=[]\n",
    "\n",
    "# Perform k-fold cross-validation\n",
    "for train_index, test_index in kf.split(X):\n",
    "    X_train, X_test = X[train_index], X[test_index]\n",
    "    y_train, y_test = Y[train_index], Y[test_index]\n",
    "\n",
    "    \n",
    "    # Train the model\n",
    "    model = DecisionTreeRegressor()\n",
    "    model.fit(X_train, y_train)\n",
    "    \n",
    "    # Predict on the test set\n",
    "    y_pred = model.predict(X_test)\n",
    "    \n",
    "    # Calculate MSE and store it\n",
    "    mse = mean_squared_error(y_test, y_pred)\n",
    "    mse_scores.append(mse)\n",
    "\n",
    "    # Calculate r2 score and store it\n",
    "    r2 = r2_score(y_test, y_pred)\n",
    "    r2_scores.append(r2)\n",
    "\n",
    "# Calculate average MSE across all folds\n",
    "avg_mse = np.mean(mse_scores)\n",
    "print(mse_scores)\n",
    "print(\"Average MSE:\", avg_mse)\n",
    "\n",
    "# Calculate average r2 across all folds\n",
    "avg_r2 = np.mean(r2_scores)\n",
    "print(r2_scores)\n",
    "print(\"Average MSE:\", avg_r2)\n",
    "end_time=time.time()\n",
    "\n",
    "print(f\"time taken {end_time-start_time}\")"
   ]
  },
  {
   "cell_type": "code",
   "execution_count": 75,
   "metadata": {},
   "outputs": [
    {
     "name": "stdout",
     "output_type": "stream",
     "text": [
      "Best parameters: {'max_depth': 15, 'min_samples_leaf': 4, 'min_samples_split': 2}\n",
      "Test set MSE: 15098.975600782398\n",
      "0.6602045349376263\n"
     ]
    }
   ],
   "source": [
    "param_grid = {\n",
    "    'max_depth': [3, 5, 7, 10],\n",
    "    'min_samples_split': [2, 5, 10],\n",
    "    'min_samples_leaf': [1, 2, 4]\n",
    "}\n",
    "\n",
    "X_train, X_test, y_train, y_test = train_test_split(X, Y, test_size=0.3, random_state=42)\n",
    "\n",
    "\n",
    "X_train=X_train.reset_index(drop=True)\n",
    "X_test=X_test.reset_index(drop=True)\n",
    "y_train=y_train.reset_index(drop=True)\n",
    "y_test=y_test.reset_index(drop=True)\n",
    "#Scaling\n",
    "standard=StandardScaler()\n",
    "\n",
    "standard=standard.fit(X_train)\n",
    "X_train=standard.transform(X_train)\n",
    "X_test=standard.transform(X_test)\n",
    "\n",
    "\n",
    "param_grid = {\n",
    "    'max_depth': [10,12,15,16],\n",
    "    'min_samples_split': [2],\n",
    "    'min_samples_leaf': [4,5]\n",
    "}\n",
    "\n",
    "\n",
    "tree_regressor = DecisionTreeRegressor(random_state=42)\n",
    "\n",
    "# Create GridSearchCV instance\n",
    "grid_search = GridSearchCV(tree_regressor, param_grid, cv=5, scoring='neg_mean_squared_error')\n",
    "\n",
    "# Fit the grid search to the data\n",
    "grid_search.fit(X_train, y_train)\n",
    "\n",
    "# Get the best estimator\n",
    "best_regressor = grid_search.best_estimator_\n",
    "\n",
    "# Print the best parameters found\n",
    "print(\"Best parameters:\", grid_search.best_params_)\n",
    "\n",
    "# Evaluate the best model on the test set\n",
    "y_pred = best_regressor.predict(X_test)\n",
    "mse = mean_squared_error(y_test, y_pred)\n",
    "print(\"Test set MSE:\", mse)\n",
    "\n",
    "r2 = r2_score(y_test, y_pred)\n",
    "print(r2)\n",
    "\n"
   ]
  }
 ],
 "metadata": {
  "kernelspec": {
   "display_name": "data_science",
   "language": "python",
   "name": "python3"
  },
  "language_info": {
   "codemirror_mode": {
    "name": "ipython",
    "version": 3
   },
   "file_extension": ".py",
   "mimetype": "text/x-python",
   "name": "python",
   "nbconvert_exporter": "python",
   "pygments_lexer": "ipython3",
   "version": "3.12.1"
  }
 },
 "nbformat": 4,
 "nbformat_minor": 2
}
