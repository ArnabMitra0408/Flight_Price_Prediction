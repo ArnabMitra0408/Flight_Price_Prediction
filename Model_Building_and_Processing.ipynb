{
 "cells": [
  {
   "cell_type": "code",
   "execution_count": 44,
   "metadata": {},
   "outputs": [
    {
     "data": {
      "text/plain": [
       "0.6716029820429115"
      ]
     },
     "execution_count": 44,
     "metadata": {},
     "output_type": "execute_result"
    }
   ],
   "source": [
    "import numpy as np\n",
    "import pandas as pd\n",
    "import matplotlib.pyplot as plt\n",
    "import seaborn as sns\n",
    "from sklearn.model_selection import train_test_split,KFold,GridSearchCV\n",
    "from sklearn.preprocessing import MinMaxScaler,RobustScaler,StandardScaler\n",
    "from sklearn.linear_model import LinearRegression\n",
    "from sklearn.tree import DecisionTreeRegressor\n",
    "from sklearn.ensemble import RandomForestRegressor,GradientBoostingRegressor\n",
    "from sklearn.metrics import mean_squared_error,r2_score\n",
    "import time\n",
    "import pickle\n",
    "import xgboost\n",
    "from sklearn.svm import SVR\n",
    "\n",
    "\n",
    "\n",
    "\n",
    "data=pd.read_csv(\"Data/Flight_Data_Processed.csv\")\n",
    "data=data.sample(n=20000,random_state=42,ignore_index=True)\n",
    "totalFare = data.pop('totalFare') \n",
    "\n",
    "\n",
    "data['totalFare'] = totalFare\n",
    "\n",
    "standard=StandardScaler()\n",
    "\n",
    "standard=standard.fit(data)\n",
    "data_transformed=standard.transform(data)\n",
    "\n",
    "X = data_transformed[:,:-1]\n",
    "Y=data_transformed[:,-1]\n",
    "#Scaling\n",
    "\n",
    "\n",
    "X_train, X_test, y_train, y_test = train_test_split(X, Y, test_size=0.2, random_state=42)\n",
    "\n",
    "xgb=RandomForestRegressor(n_estimators=150)\n",
    "xgb.fit(X_train,y_train)\n",
    "xgb.score(X_test,y_test)\n",
    "\n",
    "\n",
    "\n",
    "  "
   ]
  },
  {
   "cell_type": "code",
   "execution_count": 31,
   "metadata": {},
   "outputs": [
    {
     "data": {
      "text/plain": [
       "totalFare\n",
       "408.60    1199\n",
       "148.60    1153\n",
       "248.60    1143\n",
       "228.60    1080\n",
       "198.60    1064\n",
       "          ... \n",
       "483.39       1\n",
       "92.21        1\n",
       "670.92       1\n",
       "493.00       1\n",
       "682.59       1\n",
       "Name: count, Length: 12031, dtype: int64"
      ]
     },
     "execution_count": 31,
     "metadata": {},
     "output_type": "execute_result"
    }
   ],
   "source": [
    "data['totalFare'].value_counts()"
   ]
  },
  {
   "cell_type": "code",
   "execution_count": 25,
   "metadata": {},
   "outputs": [
    {
     "data": {
      "text/plain": [
       "array([[ 1.06672413, -0.44083196,  0.32285894, ...,  0.47736064,\n",
       "        -1.35753903, -1.27581532],\n",
       "       [ 0.56078246,  1.42496413, -1.17702811, ...,  0.75068221,\n",
       "         0.36878733,  0.32356905],\n",
       "       [ 0.05484079,  1.83310703,  0.53712852, ...,  0.18605739,\n",
       "         0.36878733,  0.32356905],\n",
       "       ...,\n",
       "       [ 0.56078246,  1.13343349, -0.74848896, ...,  0.0553905 ,\n",
       "         0.36878733,  0.32356905],\n",
       "       [ 0.56078246, -0.38252584,  0.32285894, ...,  1.07075615,\n",
       "         0.36878733,  0.32356905],\n",
       "       [ 1.06672413, -1.31542388,  0.10858936, ..., -0.03092157,\n",
       "         0.36878733,  0.32356905]])"
      ]
     },
     "execution_count": 25,
     "metadata": {},
     "output_type": "execute_result"
    }
   ],
   "source": [
    "X"
   ]
  },
  {
   "cell_type": "code",
   "execution_count": 13,
   "metadata": {},
   "outputs": [],
   "source": []
  }
 ],
 "metadata": {
  "kernelspec": {
   "display_name": "data_science",
   "language": "python",
   "name": "python3"
  },
  "language_info": {
   "codemirror_mode": {
    "name": "ipython",
    "version": 3
   },
   "file_extension": ".py",
   "mimetype": "text/x-python",
   "name": "python",
   "nbconvert_exporter": "python",
   "pygments_lexer": "ipython3",
   "version": "3.12.1"
  }
 },
 "nbformat": 4,
 "nbformat_minor": 2
}
